{
 "cells": [
  {
   "cell_type": "code",
   "execution_count": 1,
   "metadata": {
    "colab": {
     "base_uri": "https://localhost:8080/",
     "height": 129
    },
    "colab_type": "code",
    "id": "veXBWLRO3dot",
    "outputId": "3aeb7771-0fd3-43e0-afc0-48629ac61afa"
   },
   "outputs": [
    {
     "name": "stdout",
     "output_type": "stream",
     "text": [
      "Go to this URL in a browser: https://accounts.google.com/o/oauth2/auth?client_id=947318989803-6bn6qk8qdgf4n4g3pfee6491hc0brc4i.apps.googleusercontent.com&redirect_uri=urn%3Aietf%3Awg%3Aoauth%3A2.0%3Aoob&scope=email%20https%3A%2F%2Fwww.googleapis.com%2Fauth%2Fdocs.test%20https%3A%2F%2Fwww.googleapis.com%2Fauth%2Fdrive%20https%3A%2F%2Fwww.googleapis.com%2Fauth%2Fdrive.photos.readonly%20https%3A%2F%2Fwww.googleapis.com%2Fauth%2Fpeopleapi.readonly&response_type=code\n",
      "\n",
      "Enter your authorization code:\n",
      "··········\n",
      "Mounted at /content/drive\n"
     ]
    }
   ],
   "source": [
    "from google.colab import drive\n",
    "drive.mount('/content/drive')\n"
   ]
  },
  {
   "cell_type": "code",
   "execution_count": 0,
   "metadata": {
    "colab": {},
    "colab_type": "code",
    "id": "v7z1Etq63NXk"
   },
   "outputs": [],
   "source": [
    "import csv\n",
    "import time\n",
    "from sklearn.cluster import KMeans\n",
    "from scipy.spatial import distance\n",
    "import numpy as np\n",
    "from sklearn.neighbors import KNeighborsClassifier\n"
   ]
  },
  {
   "cell_type": "code",
   "execution_count": 0,
   "metadata": {
    "colab": {},
    "colab_type": "code",
    "id": "2AhZStMM4hWR"
   },
   "outputs": [],
   "source": [
    "!cd \"/content/drive/My Drive/Colab Notebooks/\""
   ]
  },
  {
   "cell_type": "code",
   "execution_count": 9,
   "metadata": {
    "colab": {
     "base_uri": "https://localhost:8080/",
     "height": 35
    },
    "colab_type": "code",
    "id": "MDsmc_cG4nly",
    "outputId": "f0d3ffb9-24ae-4e9e-9b6e-f6c8a077564d"
   },
   "outputs": [
    {
     "name": "stdout",
     "output_type": "stream",
     "text": [
      "drive  sample_data\n"
     ]
    }
   ],
   "source": [
    "!ls"
   ]
  },
  {
   "cell_type": "code",
   "execution_count": 13,
   "metadata": {
    "colab": {
     "base_uri": "https://localhost:8080/",
     "height": 90
    },
    "colab_type": "code",
    "id": "tn6hR56X3NXx",
    "outputId": "0fe915d0-6350-407f-f5f9-8fed64445994"
   },
   "outputs": [
    {
     "name": "stderr",
     "output_type": "stream",
     "text": [
      "/usr/local/lib/python3.6/dist-packages/ipykernel_launcher.py:1: DeprecationWarning: 'U' mode is deprecated\n",
      "  \"\"\"Entry point for launching an IPython kernel.\n",
      "/usr/local/lib/python3.6/dist-packages/ipykernel_launcher.py:9: DeprecationWarning: 'U' mode is deprecated\n",
      "  if __name__ == '__main__':\n"
     ]
    }
   ],
   "source": [
    "csvfile = open('/content/drive/My Drive/Colab Notebooks/train_labels.csv','rU')\n",
    "csvfile2 = csv.reader(csvfile, delimiter=',') \n",
    "train_labels=[]\n",
    "for num1 in list(csvfile2)[0]:\n",
    "    k=int(num1)\n",
    "    train_labels.append(k)\n",
    "csvfile.close()\n",
    "\n",
    "csvfile1 = open('/content/drive/My Drive/Colab Notebooks/test_labels.csv','rU')\n",
    "csvfile3 = csv.reader(csvfile1, delimiter=',') \n",
    "test_labels=[]\n",
    "for num2 in list(csvfile3)[0]:\n",
    "    k=int(num2)\n",
    "    test_labels.append(k)\n",
    "csvfile.close()"
   ]
  },
  {
   "cell_type": "code",
   "execution_count": 0,
   "metadata": {
    "colab": {},
    "colab_type": "code",
    "id": "Y7Rxiz4X3NX5"
   },
   "outputs": [],
   "source": [
    "def getFeaturesAndRegions(name,n):\n",
    "    train_features = []\n",
    "    detectedRegions = []\n",
    "    for i in range(n):\n",
    "        file = '/content/drive/My Drive/Colab Notebooks/' + name +'_sift_features/' + str(i+1) + '_' + name + '_sift.csv'\n",
    "        csvFile = csv.reader(open(file))\n",
    "        regions = 0\n",
    "        for total_line in csvFile:\n",
    "            train_features.append(total_line[4:])\n",
    "            regions += 1\n",
    "        detectedRegions.append(regions)\n",
    "    return detectedRegions , train_features"
   ]
  },
  {
   "cell_type": "code",
   "execution_count": 0,
   "metadata": {
    "colab": {},
    "colab_type": "code",
    "id": "Vt5LE9az3NYD"
   },
   "outputs": [],
   "source": [
    "train_size = 1888\n",
    "test_size = 800\n",
    "train_regions,train_features = getFeaturesAndRegions('train' , train_size)\n",
    "test_regions,test_features = getFeaturesAndRegions('test' , test_size)"
   ]
  },
  {
   "cell_type": "code",
   "execution_count": 0,
   "metadata": {
    "colab": {},
    "colab_type": "code",
    "id": "ng86sq9A3NYK"
   },
   "outputs": [],
   "source": [
    "def getDistance(first,clusterCenters):\n",
    "    f1=[]\n",
    "    for x in first:\n",
    "        k=float(x)\n",
    "        f1.append(k)\n",
    "\n",
    "    dist = []\n",
    "    for i in clusterCenters:\n",
    "        distance = np.linalg.norm(i-f1)\n",
    "        dist.append(distance)\n",
    "    return dist\n",
    "def BagofVisualWords(siftFeatures,train_regions,clusterCenters,clusters,bool_):\n",
    "    if(bool_ == 1):\n",
    "        name = \"train\"\n",
    "    if(bool_ == 0):\n",
    "        name = \"test\"\n",
    "    vocab = [] \n",
    "    features = [0] * clusters\n",
    "    Sum = 0\n",
    "    temp = 0\n",
    "    for feature in siftFeatures:\n",
    "        dist = getDistance(feature,clusterCenters)\n",
    "        i = dist.index(min(dist))\n",
    "        features[i] += 1\n",
    "        Sum += 1\n",
    "        if Sum == train_regions[temp]:\n",
    "            vocab.append(features)\n",
    "            features = [0] * clusters\n",
    "            Sum = 0\n",
    "            temp += 1\n",
    "    return vocab"
   ]
  },
  {
   "cell_type": "code",
   "execution_count": 17,
   "metadata": {
    "colab": {
     "base_uri": "https://localhost:8080/",
     "height": 256
    },
    "colab_type": "code",
    "id": "GVYIEo0x3NYT",
    "outputId": "a21d009b-2a49-4667-d3f3-48be2c771faf"
   },
   "outputs": [
    {
     "name": "stdout",
     "output_type": "stream",
     "text": [
      "[[35.62751495 16.15945121  9.63621533 ... 16.42832643 10.29137909\n",
      "  17.85803321]\n",
      " [17.59868918  7.09183714  6.20591857 ... 13.46192651  9.423714\n",
      "  13.16174777]\n",
      " [17.00438926 23.46379849 25.41978726 ... 33.19953339 59.0011072\n",
      "  48.0194551 ]\n",
      " ...\n",
      " [28.39389844 10.22311257  5.99618652 ... 17.9560726  28.50690288\n",
      "  37.54537556]\n",
      " [22.07004919 14.10728951 12.88303452 ... 17.55986502 15.45420173\n",
      "  12.93031671]\n",
      " [27.51824793 10.81535228  5.66649987 ... 12.07752869 10.43171204\n",
      "  17.0040032 ]]\n"
     ]
    }
   ],
   "source": [
    "clusters = 16\n",
    "kmeans = KMeans(n_clusters = clusters)\n",
    "kmeans.fit(train_features)\n",
    "cluster_centers = kmeans.cluster_centers_\n",
    "print(cluster_centers)"
   ]
  },
  {
   "cell_type": "code",
   "execution_count": 0,
   "metadata": {
    "colab": {},
    "colab_type": "code",
    "id": "bEei6TS63NYf"
   },
   "outputs": [],
   "source": [
    "vocab_Train = BagofVisualWords(train_features,train_regions,cluster_centers,clusters,1)\n",
    "vocab_Test = BagofVisualWords(test_features,test_regions,cluster_centers,clusters,0)"
   ]
  },
  {
   "cell_type": "code",
   "execution_count": 20,
   "metadata": {
    "colab": {
     "base_uri": "https://localhost:8080/",
     "height": 293
    },
    "colab_type": "code",
    "id": "vaDQD3K63NYm",
    "outputId": "dc4205d1-2352-45ed-c26d-15b265af9ee2"
   },
   "outputs": [
    {
     "name": "stdout",
     "output_type": "stream",
     "text": [
      "              precision    recall  f1-score   support\n",
      "\n",
      "           1       0.36      0.48      0.41       100\n",
      "           2       0.72      0.87      0.79       100\n",
      "           3       0.45      0.38      0.41       100\n",
      "           4       0.60      0.40      0.48       100\n",
      "           5       0.42      0.44      0.43       100\n",
      "           6       0.30      0.35      0.33       100\n",
      "           7       0.45      0.45      0.45       100\n",
      "           8       0.49      0.39      0.44       100\n",
      "\n",
      "   micro avg       0.47      0.47      0.47       800\n",
      "   macro avg       0.48      0.47      0.47       800\n",
      "weighted avg       0.48      0.47      0.47       800\n",
      "\n"
     ]
    }
   ],
   "source": [
    "k_nn = 5\n",
    "knn_model = KNeighborsClassifier(n_neighbors = k_nn)\n",
    "knn_model.fit(vocab_Train, train_labels)\n",
    "test_prediction = knn_model.predict(vocab_Test)\n",
    "\n",
    "from sklearn.metrics import classification_report\n",
    "print (classification_report(test_labels, test_prediction, target_names=[ str(i) for i in list(range(1,9))]))\n"
   ]
  },
  {
   "cell_type": "code",
   "execution_count": 21,
   "metadata": {
    "colab": {
     "base_uri": "https://localhost:8080/",
     "height": 35
    },
    "colab_type": "code",
    "id": "lmANa7UE3NYu",
    "outputId": "9bf14a0c-5a48-450c-921e-8f2f8efbc83f"
   },
   "outputs": [
    {
     "name": "stdout",
     "output_type": "stream",
     "text": [
      "0.47\n"
     ]
    }
   ],
   "source": [
    "from sklearn.metrics import accuracy_score\n",
    "categorization_accuracy = accuracy_score(test_labels, test_prediction)\n",
    "print (categorization_accuracy)"
   ]
  },
  {
   "cell_type": "code",
   "execution_count": 0,
   "metadata": {
    "colab": {},
    "colab_type": "code",
    "id": "ksvfgtUX5Qh-"
   },
   "outputs": [],
   "source": []
  }
 ],
 "metadata": {
  "accelerator": "GPU",
  "colab": {
   "name": "bag_of_words.ipynb",
   "provenance": [],
   "version": "0.3.2"
  },
  "kernelspec": {
   "display_name": "Python 3",
   "language": "python",
   "name": "python3"
  },
  "language_info": {
   "codemirror_mode": {
    "name": "ipython",
    "version": 3
   },
   "file_extension": ".py",
   "mimetype": "text/x-python",
   "name": "python",
   "nbconvert_exporter": "python",
   "pygments_lexer": "ipython3",
   "version": "3.7.0"
  }
 },
 "nbformat": 4,
 "nbformat_minor": 1
}
